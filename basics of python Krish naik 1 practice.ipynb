{
 "cells": [
  {
   "cell_type": "markdown",
   "id": "literary-diploma",
   "metadata": {},
   "source": [
    "## basics of python\n",
    "\n",
    "\n",
    "inbuit funtions \n",
    "\n",
    "indexing\n",
    "\n",
    "just try get to know the funtions not required learn all Google will there always"
   ]
  },
  {
   "cell_type": "markdown",
   "id": "decreased-hours",
   "metadata": {},
   "source": [
    "# Welcome \n",
    "\n",
    "esc+A for new cell\n",
    "\n",
    "shift + Enter for running cell"
   ]
  },
  {
   "cell_type": "code",
   "execution_count": 1,
   "id": "disturbed-acting",
   "metadata": {},
   "outputs": [
    {
     "data": {
      "text/plain": [
       "989"
      ]
     },
     "execution_count": 1,
     "metadata": {},
     "output_type": "execute_result"
    }
   ],
   "source": [
    "23*43"
   ]
  },
  {
   "cell_type": "code",
   "execution_count": 2,
   "id": "coastal-fantasy",
   "metadata": {},
   "outputs": [
    {
     "data": {
      "text/plain": [
       "int"
      ]
     },
     "execution_count": 2,
     "metadata": {},
     "output_type": "execute_result"
    }
   ],
   "source": [
    "type(1)"
   ]
  },
  {
   "cell_type": "code",
   "execution_count": 3,
   "id": "spectacular-cowboy",
   "metadata": {},
   "outputs": [
    {
     "data": {
      "text/plain": [
       "str"
      ]
     },
     "execution_count": 3,
     "metadata": {},
     "output_type": "execute_result"
    }
   ],
   "source": [
    "type('string')"
   ]
  },
  {
   "cell_type": "markdown",
   "id": "outstanding-tragedy",
   "metadata": {},
   "source": [
    "# string"
   ]
  },
  {
   "cell_type": "code",
   "execution_count": 4,
   "id": "prescribed-nancy",
   "metadata": {},
   "outputs": [
    {
     "data": {
      "text/plain": [
       "'name'"
      ]
     },
     "execution_count": 4,
     "metadata": {},
     "output_type": "execute_result"
    }
   ],
   "source": [
    "'name'"
   ]
  },
  {
   "cell_type": "code",
   "execution_count": 5,
   "id": "primary-sandwich",
   "metadata": {},
   "outputs": [
    {
     "data": {
      "text/plain": [
       "'name'"
      ]
     },
     "execution_count": 5,
     "metadata": {},
     "output_type": "execute_result"
    }
   ],
   "source": [
    "\"name\""
   ]
  },
  {
   "cell_type": "markdown",
   "id": "peripheral-station",
   "metadata": {},
   "source": [
    "# assignment"
   ]
  },
  {
   "cell_type": "code",
   "execution_count": 6,
   "id": "patient-destination",
   "metadata": {},
   "outputs": [],
   "source": [
    "a=12\n",
    "b=10"
   ]
  },
  {
   "cell_type": "code",
   "execution_count": 7,
   "id": "overhead-energy",
   "metadata": {},
   "outputs": [
    {
     "name": "stdout",
     "output_type": "stream",
     "text": [
      "22\n"
     ]
    }
   ],
   "source": [
    "print(a+b)"
   ]
  },
  {
   "cell_type": "code",
   "execution_count": 8,
   "id": "desirable-skill",
   "metadata": {},
   "outputs": [
    {
     "name": "stdout",
     "output_type": "stream",
     "text": [
      "hello\n"
     ]
    }
   ],
   "source": [
    "print(\"hello\")"
   ]
  },
  {
   "cell_type": "code",
   "execution_count": 9,
   "id": "romantic-amber",
   "metadata": {},
   "outputs": [],
   "source": [
    "firstname ='abhi'\n",
    "lastname ='agra'"
   ]
  },
  {
   "cell_type": "code",
   "execution_count": 10,
   "id": "dried-springer",
   "metadata": {},
   "outputs": [
    {
     "name": "stdout",
     "output_type": "stream",
     "text": [
      "my first name is abhi and last name i sagra\n"
     ]
    }
   ],
   "source": [
    "print(\"my first name is {} and last name i s{}\".format(firstname,lastname))"
   ]
  },
  {
   "cell_type": "code",
   "execution_count": 11,
   "id": "circular-recovery",
   "metadata": {},
   "outputs": [
    {
     "name": "stdout",
     "output_type": "stream",
     "text": [
      "my first name is abhi and last name is agra\n"
     ]
    }
   ],
   "source": [
    "print(\"my first name is {first} and last name is {last}\".format(last=lastname,first=firstname))"
   ]
  },
  {
   "cell_type": "code",
   "execution_count": 12,
   "id": "chinese-disclosure",
   "metadata": {},
   "outputs": [
    {
     "data": {
      "text/plain": [
       "5"
      ]
     },
     "execution_count": 12,
     "metadata": {},
     "output_type": "execute_result"
    }
   ],
   "source": [
    "len('krish')"
   ]
  },
  {
   "cell_type": "code",
   "execution_count": 13,
   "id": "indie-transaction",
   "metadata": {},
   "outputs": [
    {
     "data": {
      "text/plain": [
       "float"
      ]
     },
     "execution_count": 13,
     "metadata": {},
     "output_type": "execute_result"
    }
   ],
   "source": [
    "type(1.0)"
   ]
  },
  {
   "cell_type": "code",
   "execution_count": 14,
   "id": "promising-girlfriend",
   "metadata": {},
   "outputs": [
    {
     "data": {
      "text/plain": [
       "list"
      ]
     },
     "execution_count": 14,
     "metadata": {},
     "output_type": "execute_result"
    }
   ],
   "source": [
    "type([1,2,3,4,5,6])"
   ]
  },
  {
   "cell_type": "code",
   "execution_count": 15,
   "id": "talented-austria",
   "metadata": {},
   "outputs": [
    {
     "name": "stdout",
     "output_type": "stream",
     "text": [
      "Ready \n",
      "Ready \n",
      "Ready \n",
      "Ready \n",
      "Ready \n",
      "Ready \n",
      "Ready \n",
      "Ready \n",
      "Ready \n",
      "Ready \n",
      "Ready \n",
      "Ready \n",
      "Ready \n",
      "Ready \n",
      "Ready \n",
      "Ready \n",
      "Ready \n",
      "Ready \n",
      "Ready \n",
      "Ready \n",
      "Ready \n",
      "Ready \n",
      "Ready \n",
      "Ready \n",
      "Ready \n",
      "Ready \n",
      "Ready \n",
      "Ready \n",
      "Ready \n",
      "Ready \n",
      "Ready \n",
      "Ready \n",
      "Ready \n",
      "Ready \n",
      "Ready \n",
      "Ready \n",
      "Ready \n",
      "Ready \n",
      "Ready \n",
      "Ready \n",
      "Ready \n",
      "Ready \n",
      "Ready \n",
      "Ready \n",
      "Ready \n",
      "Ready \n",
      "Ready \n",
      "Ready \n",
      "Ready \n",
      "Ready \n",
      "Ready \n",
      "Ready \n",
      "Ready \n",
      "Ready \n",
      "Ready \n",
      "Ready \n",
      "Ready \n",
      "Ready \n",
      "Ready \n",
      "Ready \n",
      "Ready \n",
      "Ready \n",
      "Ready \n",
      "Ready \n",
      "Ready \n",
      "Ready \n",
      "Ready \n",
      "Ready \n",
      "Ready \n",
      "Ready \n",
      "Ready \n",
      "Ready \n",
      "Ready \n",
      "Ready \n",
      "Ready \n",
      "Ready \n",
      "Ready \n",
      "Ready \n",
      "Ready \n",
      "Ready \n",
      "Ready \n",
      "Ready \n",
      "Ready \n",
      "Ready \n",
      "Ready \n",
      "Ready \n",
      "Ready \n",
      "Ready \n",
      "Ready \n",
      "Ready \n",
      "Ready \n",
      "Ready \n",
      "Ready \n",
      "Ready \n",
      "Ready \n",
      "Ready \n",
      "Ready \n",
      "Ready \n",
      "Ready \n",
      "Ready \n",
      "\n"
     ]
    }
   ],
   "source": [
    "print('Ready \\n'*100)"
   ]
  },
  {
   "cell_type": "code",
   "execution_count": null,
   "id": "electronic-specific",
   "metadata": {},
   "outputs": [],
   "source": []
  }
 ],
 "metadata": {
  "kernelspec": {
   "display_name": "Python 3",
   "language": "python",
   "name": "python3"
  },
  "language_info": {
   "codemirror_mode": {
    "name": "ipython",
    "version": 3
   },
   "file_extension": ".py",
   "mimetype": "text/x-python",
   "name": "python",
   "nbconvert_exporter": "python",
   "pygments_lexer": "ipython3",
   "version": "3.9.1"
  }
 },
 "nbformat": 4,
 "nbformat_minor": 5
}
